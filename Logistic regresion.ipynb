{
 "cells": [
  {
   "cell_type": "code",
   "execution_count": 1,
   "id": "8692e6a9",
   "metadata": {},
   "outputs": [],
   "source": [
    "import numpy as np\n",
    "import pandas as pd\n",
    "import matplotlib.pyplot as plt\n",
    "import seaborn as sns"
   ]
  },
  {
   "cell_type": "code",
   "execution_count": 4,
   "id": "92d18b08",
   "metadata": {},
   "outputs": [],
   "source": [
    "data=pd.read_csv(\"loan_prediction.csv\")"
   ]
  },
  {
   "cell_type": "code",
   "execution_count": 5,
   "id": "1fb72423",
   "metadata": {},
   "outputs": [
    {
     "data": {
      "text/html": [
       "<div>\n",
       "<style scoped>\n",
       "    .dataframe tbody tr th:only-of-type {\n",
       "        vertical-align: middle;\n",
       "    }\n",
       "\n",
       "    .dataframe tbody tr th {\n",
       "        vertical-align: top;\n",
       "    }\n",
       "\n",
       "    .dataframe thead th {\n",
       "        text-align: right;\n",
       "    }\n",
       "</style>\n",
       "<table border=\"1\" class=\"dataframe\">\n",
       "  <thead>\n",
       "    <tr style=\"text-align: right;\">\n",
       "      <th></th>\n",
       "      <th>Loan_ID</th>\n",
       "      <th>Gender</th>\n",
       "      <th>Married</th>\n",
       "      <th>Dependents</th>\n",
       "      <th>Education</th>\n",
       "      <th>Self_Employed</th>\n",
       "      <th>ApplicantIncome</th>\n",
       "      <th>CoapplicantIncome</th>\n",
       "      <th>LoanAmount</th>\n",
       "      <th>Loan_Amount_Term</th>\n",
       "      <th>Credit_History</th>\n",
       "      <th>Property_Area</th>\n",
       "      <th>Loan_Status</th>\n",
       "    </tr>\n",
       "  </thead>\n",
       "  <tbody>\n",
       "    <tr>\n",
       "      <th>0</th>\n",
       "      <td>LP001002</td>\n",
       "      <td>Male</td>\n",
       "      <td>No</td>\n",
       "      <td>0</td>\n",
       "      <td>Graduate</td>\n",
       "      <td>No</td>\n",
       "      <td>5849</td>\n",
       "      <td>0.0</td>\n",
       "      <td>NaN</td>\n",
       "      <td>360.0</td>\n",
       "      <td>1.0</td>\n",
       "      <td>Urban</td>\n",
       "      <td>Y</td>\n",
       "    </tr>\n",
       "    <tr>\n",
       "      <th>1</th>\n",
       "      <td>LP001003</td>\n",
       "      <td>Male</td>\n",
       "      <td>Yes</td>\n",
       "      <td>1</td>\n",
       "      <td>Graduate</td>\n",
       "      <td>No</td>\n",
       "      <td>4583</td>\n",
       "      <td>1508.0</td>\n",
       "      <td>128.0</td>\n",
       "      <td>360.0</td>\n",
       "      <td>1.0</td>\n",
       "      <td>Rural</td>\n",
       "      <td>N</td>\n",
       "    </tr>\n",
       "    <tr>\n",
       "      <th>2</th>\n",
       "      <td>LP001005</td>\n",
       "      <td>Male</td>\n",
       "      <td>Yes</td>\n",
       "      <td>0</td>\n",
       "      <td>Graduate</td>\n",
       "      <td>Yes</td>\n",
       "      <td>3000</td>\n",
       "      <td>0.0</td>\n",
       "      <td>66.0</td>\n",
       "      <td>360.0</td>\n",
       "      <td>1.0</td>\n",
       "      <td>Urban</td>\n",
       "      <td>Y</td>\n",
       "    </tr>\n",
       "    <tr>\n",
       "      <th>3</th>\n",
       "      <td>LP001006</td>\n",
       "      <td>Male</td>\n",
       "      <td>Yes</td>\n",
       "      <td>0</td>\n",
       "      <td>Not Graduate</td>\n",
       "      <td>No</td>\n",
       "      <td>2583</td>\n",
       "      <td>2358.0</td>\n",
       "      <td>120.0</td>\n",
       "      <td>360.0</td>\n",
       "      <td>1.0</td>\n",
       "      <td>Urban</td>\n",
       "      <td>Y</td>\n",
       "    </tr>\n",
       "    <tr>\n",
       "      <th>4</th>\n",
       "      <td>LP001008</td>\n",
       "      <td>Male</td>\n",
       "      <td>No</td>\n",
       "      <td>0</td>\n",
       "      <td>Graduate</td>\n",
       "      <td>No</td>\n",
       "      <td>6000</td>\n",
       "      <td>0.0</td>\n",
       "      <td>141.0</td>\n",
       "      <td>360.0</td>\n",
       "      <td>1.0</td>\n",
       "      <td>Urban</td>\n",
       "      <td>Y</td>\n",
       "    </tr>\n",
       "  </tbody>\n",
       "</table>\n",
       "</div>"
      ],
      "text/plain": [
       "    Loan_ID Gender Married Dependents     Education Self_Employed  \\\n",
       "0  LP001002   Male      No          0      Graduate            No   \n",
       "1  LP001003   Male     Yes          1      Graduate            No   \n",
       "2  LP001005   Male     Yes          0      Graduate           Yes   \n",
       "3  LP001006   Male     Yes          0  Not Graduate            No   \n",
       "4  LP001008   Male      No          0      Graduate            No   \n",
       "\n",
       "   ApplicantIncome  CoapplicantIncome  LoanAmount  Loan_Amount_Term  \\\n",
       "0             5849                0.0         NaN             360.0   \n",
       "1             4583             1508.0       128.0             360.0   \n",
       "2             3000                0.0        66.0             360.0   \n",
       "3             2583             2358.0       120.0             360.0   \n",
       "4             6000                0.0       141.0             360.0   \n",
       "\n",
       "   Credit_History Property_Area Loan_Status  \n",
       "0             1.0         Urban           Y  \n",
       "1             1.0         Rural           N  \n",
       "2             1.0         Urban           Y  \n",
       "3             1.0         Urban           Y  \n",
       "4             1.0         Urban           Y  "
      ]
     },
     "execution_count": 5,
     "metadata": {},
     "output_type": "execute_result"
    }
   ],
   "source": [
    "data.head()"
   ]
  },
  {
   "cell_type": "code",
   "execution_count": 6,
   "id": "8f20de91",
   "metadata": {},
   "outputs": [
    {
     "name": "stdout",
     "output_type": "stream",
     "text": [
      "<class 'pandas.core.frame.DataFrame'>\n",
      "RangeIndex: 614 entries, 0 to 613\n",
      "Data columns (total 13 columns):\n",
      " #   Column             Non-Null Count  Dtype  \n",
      "---  ------             --------------  -----  \n",
      " 0   Loan_ID            614 non-null    object \n",
      " 1   Gender             601 non-null    object \n",
      " 2   Married            611 non-null    object \n",
      " 3   Dependents         599 non-null    object \n",
      " 4   Education          614 non-null    object \n",
      " 5   Self_Employed      582 non-null    object \n",
      " 6   ApplicantIncome    614 non-null    int64  \n",
      " 7   CoapplicantIncome  614 non-null    float64\n",
      " 8   LoanAmount         592 non-null    float64\n",
      " 9   Loan_Amount_Term   600 non-null    float64\n",
      " 10  Credit_History     564 non-null    float64\n",
      " 11  Property_Area      614 non-null    object \n",
      " 12  Loan_Status        614 non-null    object \n",
      "dtypes: float64(4), int64(1), object(8)\n",
      "memory usage: 62.5+ KB\n"
     ]
    }
   ],
   "source": [
    "data.info()"
   ]
  },
  {
   "cell_type": "code",
   "execution_count": 7,
   "id": "7fb444c2",
   "metadata": {},
   "outputs": [
    {
     "data": {
      "text/html": [
       "<div>\n",
       "<style scoped>\n",
       "    .dataframe tbody tr th:only-of-type {\n",
       "        vertical-align: middle;\n",
       "    }\n",
       "\n",
       "    .dataframe tbody tr th {\n",
       "        vertical-align: top;\n",
       "    }\n",
       "\n",
       "    .dataframe thead th {\n",
       "        text-align: right;\n",
       "    }\n",
       "</style>\n",
       "<table border=\"1\" class=\"dataframe\">\n",
       "  <thead>\n",
       "    <tr style=\"text-align: right;\">\n",
       "      <th></th>\n",
       "      <th>ApplicantIncome</th>\n",
       "      <th>CoapplicantIncome</th>\n",
       "      <th>LoanAmount</th>\n",
       "      <th>Loan_Amount_Term</th>\n",
       "      <th>Credit_History</th>\n",
       "    </tr>\n",
       "  </thead>\n",
       "  <tbody>\n",
       "    <tr>\n",
       "      <th>count</th>\n",
       "      <td>614.000000</td>\n",
       "      <td>614.000000</td>\n",
       "      <td>592.000000</td>\n",
       "      <td>600.00000</td>\n",
       "      <td>564.000000</td>\n",
       "    </tr>\n",
       "    <tr>\n",
       "      <th>mean</th>\n",
       "      <td>5403.459283</td>\n",
       "      <td>1621.245798</td>\n",
       "      <td>146.412162</td>\n",
       "      <td>342.00000</td>\n",
       "      <td>0.842199</td>\n",
       "    </tr>\n",
       "    <tr>\n",
       "      <th>std</th>\n",
       "      <td>6109.041673</td>\n",
       "      <td>2926.248369</td>\n",
       "      <td>85.587325</td>\n",
       "      <td>65.12041</td>\n",
       "      <td>0.364878</td>\n",
       "    </tr>\n",
       "    <tr>\n",
       "      <th>min</th>\n",
       "      <td>150.000000</td>\n",
       "      <td>0.000000</td>\n",
       "      <td>9.000000</td>\n",
       "      <td>12.00000</td>\n",
       "      <td>0.000000</td>\n",
       "    </tr>\n",
       "    <tr>\n",
       "      <th>25%</th>\n",
       "      <td>2877.500000</td>\n",
       "      <td>0.000000</td>\n",
       "      <td>100.000000</td>\n",
       "      <td>360.00000</td>\n",
       "      <td>1.000000</td>\n",
       "    </tr>\n",
       "    <tr>\n",
       "      <th>50%</th>\n",
       "      <td>3812.500000</td>\n",
       "      <td>1188.500000</td>\n",
       "      <td>128.000000</td>\n",
       "      <td>360.00000</td>\n",
       "      <td>1.000000</td>\n",
       "    </tr>\n",
       "    <tr>\n",
       "      <th>75%</th>\n",
       "      <td>5795.000000</td>\n",
       "      <td>2297.250000</td>\n",
       "      <td>168.000000</td>\n",
       "      <td>360.00000</td>\n",
       "      <td>1.000000</td>\n",
       "    </tr>\n",
       "    <tr>\n",
       "      <th>max</th>\n",
       "      <td>81000.000000</td>\n",
       "      <td>41667.000000</td>\n",
       "      <td>700.000000</td>\n",
       "      <td>480.00000</td>\n",
       "      <td>1.000000</td>\n",
       "    </tr>\n",
       "  </tbody>\n",
       "</table>\n",
       "</div>"
      ],
      "text/plain": [
       "       ApplicantIncome  CoapplicantIncome  LoanAmount  Loan_Amount_Term  \\\n",
       "count       614.000000         614.000000  592.000000         600.00000   \n",
       "mean       5403.459283        1621.245798  146.412162         342.00000   \n",
       "std        6109.041673        2926.248369   85.587325          65.12041   \n",
       "min         150.000000           0.000000    9.000000          12.00000   \n",
       "25%        2877.500000           0.000000  100.000000         360.00000   \n",
       "50%        3812.500000        1188.500000  128.000000         360.00000   \n",
       "75%        5795.000000        2297.250000  168.000000         360.00000   \n",
       "max       81000.000000       41667.000000  700.000000         480.00000   \n",
       "\n",
       "       Credit_History  \n",
       "count      564.000000  \n",
       "mean         0.842199  \n",
       "std          0.364878  \n",
       "min          0.000000  \n",
       "25%          1.000000  \n",
       "50%          1.000000  \n",
       "75%          1.000000  \n",
       "max          1.000000  "
      ]
     },
     "execution_count": 7,
     "metadata": {},
     "output_type": "execute_result"
    }
   ],
   "source": [
    "data.describe()"
   ]
  },
  {
   "cell_type": "code",
   "execution_count": 8,
   "id": "6964d7ca",
   "metadata": {},
   "outputs": [
    {
     "data": {
      "text/plain": [
       "Loan_ID               0\n",
       "Gender               13\n",
       "Married               3\n",
       "Dependents           15\n",
       "Education             0\n",
       "Self_Employed        32\n",
       "ApplicantIncome       0\n",
       "CoapplicantIncome     0\n",
       "LoanAmount           22\n",
       "Loan_Amount_Term     14\n",
       "Credit_History       50\n",
       "Property_Area         0\n",
       "Loan_Status           0\n",
       "dtype: int64"
      ]
     },
     "execution_count": 8,
     "metadata": {},
     "output_type": "execute_result"
    }
   ],
   "source": [
    "data.isnull().sum()"
   ]
  },
  {
   "cell_type": "code",
   "execution_count": 9,
   "id": "c017becf",
   "metadata": {},
   "outputs": [
    {
     "data": {
      "text/plain": [
       "Index(['Loan_ID', 'Gender', 'Married', 'Dependents', 'Education',\n",
       "       'Self_Employed', 'ApplicantIncome', 'CoapplicantIncome', 'LoanAmount',\n",
       "       'Loan_Amount_Term', 'Credit_History', 'Property_Area', 'Loan_Status'],\n",
       "      dtype='object')"
      ]
     },
     "execution_count": 9,
     "metadata": {},
     "output_type": "execute_result"
    }
   ],
   "source": [
    "data.columns"
   ]
  },
  {
   "cell_type": "code",
   "execution_count": 10,
   "id": "1259ab54",
   "metadata": {},
   "outputs": [
    {
     "data": {
      "text/plain": [
       "Yes    398\n",
       "No     213\n",
       "Name: Married, dtype: int64"
      ]
     },
     "execution_count": 10,
     "metadata": {},
     "output_type": "execute_result"
    }
   ],
   "source": [
    "data['Married'].value_counts()"
   ]
  },
  {
   "cell_type": "code",
   "execution_count": 11,
   "id": "dcf64fe6",
   "metadata": {},
   "outputs": [
    {
     "data": {
      "text/plain": [
       "Y    422\n",
       "N    192\n",
       "Name: Loan_Status, dtype: int64"
      ]
     },
     "execution_count": 11,
     "metadata": {},
     "output_type": "execute_result"
    }
   ],
   "source": [
    "data['Loan_Status'].value_counts()"
   ]
  },
  {
   "cell_type": "code",
   "execution_count": 12,
   "id": "cda9f26f",
   "metadata": {},
   "outputs": [
    {
     "name": "stderr",
     "output_type": "stream",
     "text": [
      "C:\\Users\\Sagar\\anaconda3\\python\\lib\\site-packages\\seaborn\\_decorators.py:36: FutureWarning: Pass the following variable as a keyword arg: x. From version 0.12, the only valid positional argument will be `data`, and passing other arguments without an explicit keyword will result in an error or misinterpretation.\n",
      "  warnings.warn(\n"
     ]
    },
    {
     "data": {
      "text/plain": [
       "<AxesSubplot:xlabel='Loan_Status', ylabel='count'>"
      ]
     },
     "execution_count": 12,
     "metadata": {},
     "output_type": "execute_result"
    },
    {
     "data": {
      "image/png": "[encoded data removed]",
      "text/plain": [
       "<Figure size 432x288 with 1 Axes>"
      ]
     },
     "metadata": {
      "needs_background": "light"
     },
     "output_type": "display_data"
    }
   ],
   "source": [
    "sns.countplot(data['Loan_Status'])"
   ]
  },
  {
   "cell_type": "code",
   "execution_count": 13,
   "id": "d9626c42",
   "metadata": {},
   "outputs": [],
   "source": [
    "data.drop('Loan_ID', axis = 1, inplace = True)"
   ]
  },
  {
   "cell_type": "code",
   "execution_count": 14,
   "id": "48d7619b",
   "metadata": {},
   "outputs": [
    {
     "data": {
      "text/html": [
       "<div>\n",
       "<style scoped>\n",
       "    .dataframe tbody tr th:only-of-type {\n",
       "        vertical-align: middle;\n",
       "    }\n",
       "\n",
       "    .dataframe tbody tr th {\n",
       "        vertical-align: top;\n",
       "    }\n",
       "\n",
       "    .dataframe thead th {\n",
       "        text-align: right;\n",
       "    }\n",
       "</style>\n",
       "<table border=\"1\" class=\"dataframe\">\n",
       "  <thead>\n",
       "    <tr style=\"text-align: right;\">\n",
       "      <th></th>\n",
       "      <th>Gender</th>\n",
       "      <th>Married</th>\n",
       "      <th>Dependents</th>\n",
       "      <th>Education</th>\n",
       "      <th>Self_Employed</th>\n",
       "      <th>ApplicantIncome</th>\n",
       "      <th>CoapplicantIncome</th>\n",
       "      <th>LoanAmount</th>\n",
       "      <th>Loan_Amount_Term</th>\n",
       "      <th>Credit_History</th>\n",
       "      <th>Property_Area</th>\n",
       "      <th>Loan_Status</th>\n",
       "    </tr>\n",
       "  </thead>\n",
       "  <tbody>\n",
       "    <tr>\n",
       "      <th>0</th>\n",
       "      <td>Male</td>\n",
       "      <td>No</td>\n",
       "      <td>0</td>\n",
       "      <td>Graduate</td>\n",
       "      <td>No</td>\n",
       "      <td>5849</td>\n",
       "      <td>0.0</td>\n",
       "      <td>NaN</td>\n",
       "      <td>360.0</td>\n",
       "      <td>1.0</td>\n",
       "      <td>Urban</td>\n",
       "      <td>Y</td>\n",
       "    </tr>\n",
       "    <tr>\n",
       "      <th>1</th>\n",
       "      <td>Male</td>\n",
       "      <td>Yes</td>\n",
       "      <td>1</td>\n",
       "      <td>Graduate</td>\n",
       "      <td>No</td>\n",
       "      <td>4583</td>\n",
       "      <td>1508.0</td>\n",
       "      <td>128.0</td>\n",
       "      <td>360.0</td>\n",
       "      <td>1.0</td>\n",
       "      <td>Rural</td>\n",
       "      <td>N</td>\n",
       "    </tr>\n",
       "    <tr>\n",
       "      <th>2</th>\n",
       "      <td>Male</td>\n",
       "      <td>Yes</td>\n",
       "      <td>0</td>\n",
       "      <td>Graduate</td>\n",
       "      <td>Yes</td>\n",
       "      <td>3000</td>\n",
       "      <td>0.0</td>\n",
       "      <td>66.0</td>\n",
       "      <td>360.0</td>\n",
       "      <td>1.0</td>\n",
       "      <td>Urban</td>\n",
       "      <td>Y</td>\n",
       "    </tr>\n",
       "    <tr>\n",
       "      <th>3</th>\n",
       "      <td>Male</td>\n",
       "      <td>Yes</td>\n",
       "      <td>0</td>\n",
       "      <td>Not Graduate</td>\n",
       "      <td>No</td>\n",
       "      <td>2583</td>\n",
       "      <td>2358.0</td>\n",
       "      <td>120.0</td>\n",
       "      <td>360.0</td>\n",
       "      <td>1.0</td>\n",
       "      <td>Urban</td>\n",
       "      <td>Y</td>\n",
       "    </tr>\n",
       "    <tr>\n",
       "      <th>4</th>\n",
       "      <td>Male</td>\n",
       "      <td>No</td>\n",
       "      <td>0</td>\n",
       "      <td>Graduate</td>\n",
       "      <td>No</td>\n",
       "      <td>6000</td>\n",
       "      <td>0.0</td>\n",
       "      <td>141.0</td>\n",
       "      <td>360.0</td>\n",
       "      <td>1.0</td>\n",
       "      <td>Urban</td>\n",
       "      <td>Y</td>\n",
       "    </tr>\n",
       "  </tbody>\n",
       "</table>\n",
       "</div>"
      ],
      "text/plain": [
       "  Gender Married Dependents     Education Self_Employed  ApplicantIncome  \\\n",
       "0   Male      No          0      Graduate            No             5849   \n",
       "1   Male     Yes          1      Graduate            No             4583   \n",
       "2   Male     Yes          0      Graduate           Yes             3000   \n",
       "3   Male     Yes          0  Not Graduate            No             2583   \n",
       "4   Male      No          0      Graduate            No             6000   \n",
       "\n",
       "   CoapplicantIncome  LoanAmount  Loan_Amount_Term  Credit_History  \\\n",
       "0                0.0         NaN             360.0             1.0   \n",
       "1             1508.0       128.0             360.0             1.0   \n",
       "2                0.0        66.0             360.0             1.0   \n",
       "3             2358.0       120.0             360.0             1.0   \n",
       "4                0.0       141.0             360.0             1.0   \n",
       "\n",
       "  Property_Area Loan_Status  \n",
       "0         Urban           Y  \n",
       "1         Rural           N  \n",
       "2         Urban           Y  \n",
       "3         Urban           Y  \n",
       "4         Urban           Y  "
      ]
     },
     "execution_count": 14,
     "metadata": {},
     "output_type": "execute_result"
    }
   ],
   "source": [
    "data.head()"
   ]
  },
  {
   "cell_type": "code",
   "execution_count": 15,
   "id": "54e6c527",
   "metadata": {},
   "outputs": [
    {
     "data": {
      "text/plain": [
       "array(['Male', 'Female', nan], dtype=object)"
      ]
     },
     "execution_count": 15,
     "metadata": {},
     "output_type": "execute_result"
    }
   ],
   "source": [
    "data['Gender'].unique()"
   ]
  },
  {
   "cell_type": "code",
   "execution_count": 16,
   "id": "05aa1ec0",
   "metadata": {},
   "outputs": [
    {
     "data": {
      "text/plain": [
       "Male      489\n",
       "Female    112\n",
       "Name: Gender, dtype: int64"
      ]
     },
     "execution_count": 16,
     "metadata": {},
     "output_type": "execute_result"
    }
   ],
   "source": [
    "data['Gender'].value_counts()"
   ]
  },
  {
   "cell_type": "code",
   "execution_count": 17,
   "id": "5884072a",
   "metadata": {},
   "outputs": [],
   "source": [
    "data.fillna({\"Gender\": \"Male\",\n",
    "             \"Married\": \"Yes\",\n",
    "             \"Dependents\" : '0',\n",
    "             \"Self_Employed\" : \"No\",\n",
    "             \"LoanAmount\" : data['LoanAmount'].mean(),\n",
    "             \"Loan_Amount_Term\" : data['Loan_Amount_Term'].mean(),\n",
    "             \"Credit_History\": 1 }, inplace = True)"
   ]
  },
  {
   "cell_type": "code",
   "execution_count": 18,
   "id": "7f265da3",
   "metadata": {},
   "outputs": [
    {
     "data": {
      "text/plain": [
       "Gender               0\n",
       "Married              0\n",
       "Dependents           0\n",
       "Education            0\n",
       "Self_Employed        0\n",
       "ApplicantIncome      0\n",
       "CoapplicantIncome    0\n",
       "LoanAmount           0\n",
       "Loan_Amount_Term     0\n",
       "Credit_History       0\n",
       "Property_Area        0\n",
       "Loan_Status          0\n",
       "dtype: int64"
      ]
     },
     "execution_count": 18,
     "metadata": {},
     "output_type": "execute_result"
    }
   ],
   "source": [
    "data.isnull().sum()"
   ]
  },
  {
   "cell_type": "code",
   "execution_count": 19,
   "id": "237faabd",
   "metadata": {},
   "outputs": [],
   "source": [
    "data['Loan_Status'] = data['Loan_Status'].map({'Y' : 1, 'N': 0})"
   ]
  },
  {
   "cell_type": "code",
   "execution_count": 20,
   "id": "d6df7595",
   "metadata": {},
   "outputs": [
    {
     "data": {
      "text/plain": [
       "0      1\n",
       "1      0\n",
       "2      1\n",
       "3      1\n",
       "4      1\n",
       "      ..\n",
       "609    1\n",
       "610    1\n",
       "611    1\n",
       "612    1\n",
       "613    0\n",
       "Name: Loan_Status, Length: 614, dtype: int64"
      ]
     },
     "execution_count": 20,
     "metadata": {},
     "output_type": "execute_result"
    }
   ],
   "source": [
    "data['Loan_Status']"
   ]
  },
  {
   "cell_type": "code",
   "execution_count": 21,
   "id": "2d1d1766",
   "metadata": {},
   "outputs": [
    {
     "data": {
      "text/plain": [
       "<AxesSubplot:>"
      ]
     },
     "execution_count": 21,
     "metadata": {},
     "output_type": "execute_result"
    },
    {
     "data": {
      "image/png": "[encoded data removed]",
      "text/plain": [
       "<Figure size 432x288 with 2 Axes>"
      ]
     },
     "metadata": {
      "needs_background": "light"
     },
     "output_type": "display_data"
    }
   ],
   "source": [
    "sns.heatmap(data.corr(),annot=True)"
   ]
  },
  {
   "cell_type": "code",
   "execution_count": 24,
   "id": "2bc642a0",
   "metadata": {},
   "outputs": [],
   "source": [
    "cat_cols = ['Gender', 'Married', 'Dependents', 'Education', 'Self_Employed', 'Property_Area']\n",
    "df = pd.get_dummies(data[cat_cols], drop_first= True)"
   ]
  },
  {
   "cell_type": "code",
   "execution_count": 25,
   "id": "349db510",
   "metadata": {},
   "outputs": [
    {
     "data": {
      "text/html": [
       "<div>\n",
       "<style scoped>\n",
       "    .dataframe tbody tr th:only-of-type {\n",
       "        vertical-align: middle;\n",
       "    }\n",
       "\n",
       "    .dataframe tbody tr th {\n",
       "        vertical-align: top;\n",
       "    }\n",
       "\n",
       "    .dataframe thead th {\n",
       "        text-align: right;\n",
       "    }\n",
       "</style>\n",
       "<table border=\"1\" class=\"dataframe\">\n",
       "  <thead>\n",
       "    <tr style=\"text-align: right;\">\n",
       "      <th></th>\n",
       "      <th>Gender_Male</th>\n",
       "      <th>Married_Yes</th>\n",
       "      <th>Dependents_1</th>\n",
       "      <th>Dependents_2</th>\n",
       "      <th>Dependents_3+</th>\n",
       "      <th>Education_Not Graduate</th>\n",
       "      <th>Self_Employed_Yes</th>\n",
       "      <th>Property_Area_Semiurban</th>\n",
       "      <th>Property_Area_Urban</th>\n",
       "    </tr>\n",
       "  </thead>\n",
       "  <tbody>\n",
       "    <tr>\n",
       "      <th>0</th>\n",
       "      <td>1</td>\n",
       "      <td>0</td>\n",
       "      <td>0</td>\n",
       "      <td>0</td>\n",
       "      <td>0</td>\n",
       "      <td>0</td>\n",
       "      <td>0</td>\n",
       "      <td>0</td>\n",
       "      <td>1</td>\n",
       "    </tr>\n",
       "    <tr>\n",
       "      <th>1</th>\n",
       "      <td>1</td>\n",
       "      <td>1</td>\n",
       "      <td>1</td>\n",
       "      <td>0</td>\n",
       "      <td>0</td>\n",
       "      <td>0</td>\n",
       "      <td>0</td>\n",
       "      <td>0</td>\n",
       "      <td>0</td>\n",
       "    </tr>\n",
       "    <tr>\n",
       "      <th>2</th>\n",
       "      <td>1</td>\n",
       "      <td>1</td>\n",
       "      <td>0</td>\n",
       "      <td>0</td>\n",
       "      <td>0</td>\n",
       "      <td>0</td>\n",
       "      <td>1</td>\n",
       "      <td>0</td>\n",
       "      <td>1</td>\n",
       "    </tr>\n",
       "    <tr>\n",
       "      <th>3</th>\n",
       "      <td>1</td>\n",
       "      <td>1</td>\n",
       "      <td>0</td>\n",
       "      <td>0</td>\n",
       "      <td>0</td>\n",
       "      <td>1</td>\n",
       "      <td>0</td>\n",
       "      <td>0</td>\n",
       "      <td>1</td>\n",
       "    </tr>\n",
       "    <tr>\n",
       "      <th>4</th>\n",
       "      <td>1</td>\n",
       "      <td>0</td>\n",
       "      <td>0</td>\n",
       "      <td>0</td>\n",
       "      <td>0</td>\n",
       "      <td>0</td>\n",
       "      <td>0</td>\n",
       "      <td>0</td>\n",
       "      <td>1</td>\n",
       "    </tr>\n",
       "    <tr>\n",
       "      <th>...</th>\n",
       "      <td>...</td>\n",
       "      <td>...</td>\n",
       "      <td>...</td>\n",
       "      <td>...</td>\n",
       "      <td>...</td>\n",
       "      <td>...</td>\n",
       "      <td>...</td>\n",
       "      <td>...</td>\n",
       "      <td>...</td>\n",
       "    </tr>\n",
       "    <tr>\n",
       "      <th>609</th>\n",
       "      <td>0</td>\n",
       "      <td>0</td>\n",
       "      <td>0</td>\n",
       "      <td>0</td>\n",
       "      <td>0</td>\n",
       "      <td>0</td>\n",
       "      <td>0</td>\n",
       "      <td>0</td>\n",
       "      <td>0</td>\n",
       "    </tr>\n",
       "    <tr>\n",
       "      <th>610</th>\n",
       "      <td>1</td>\n",
       "      <td>1</td>\n",
       "      <td>0</td>\n",
       "      <td>0</td>\n",
       "      <td>1</td>\n",
       "      <td>0</td>\n",
       "      <td>0</td>\n",
       "      <td>0</td>\n",
       "      <td>0</td>\n",
       "    </tr>\n",
       "    <tr>\n",
       "      <th>611</th>\n",
       "      <td>1</td>\n",
       "      <td>1</td>\n",
       "      <td>1</td>\n",
       "      <td>0</td>\n",
       "      <td>0</td>\n",
       "      <td>0</td>\n",
       "      <td>0</td>\n",
       "      <td>0</td>\n",
       "      <td>1</td>\n",
       "    </tr>\n",
       "    <tr>\n",
       "      <th>612</th>\n",
       "      <td>1</td>\n",
       "      <td>1</td>\n",
       "      <td>0</td>\n",
       "      <td>1</td>\n",
       "      <td>0</td>\n",
       "      <td>0</td>\n",
       "      <td>0</td>\n",
       "      <td>0</td>\n",
       "      <td>1</td>\n",
       "    </tr>\n",
       "    <tr>\n",
       "      <th>613</th>\n",
       "      <td>0</td>\n",
       "      <td>0</td>\n",
       "      <td>0</td>\n",
       "      <td>0</td>\n",
       "      <td>0</td>\n",
       "      <td>0</td>\n",
       "      <td>1</td>\n",
       "      <td>1</td>\n",
       "      <td>0</td>\n",
       "    </tr>\n",
       "  </tbody>\n",
       "</table>\n",
       "<p>614 rows × 9 columns</p>\n",
       "</div>"
      ],
      "text/plain": [
       "     Gender_Male  Married_Yes  Dependents_1  Dependents_2  Dependents_3+  \\\n",
       "0              1            0             0             0              0   \n",
       "1              1            1             1             0              0   \n",
       "2              1            1             0             0              0   \n",
       "3              1            1             0             0              0   \n",
       "4              1            0             0             0              0   \n",
       "..           ...          ...           ...           ...            ...   \n",
       "609            0            0             0             0              0   \n",
       "610            1            1             0             0              1   \n",
       "611            1            1             1             0              0   \n",
       "612            1            1             0             1              0   \n",
       "613            0            0             0             0              0   \n",
       "\n",
       "     Education_Not Graduate  Self_Employed_Yes  Property_Area_Semiurban  \\\n",
       "0                         0                  0                        0   \n",
       "1                         0                  0                        0   \n",
       "2                         0                  1                        0   \n",
       "3                         1                  0                        0   \n",
       "4                         0                  0                        0   \n",
       "..                      ...                ...                      ...   \n",
       "609                       0                  0                        0   \n",
       "610                       0                  0                        0   \n",
       "611                       0                  0                        0   \n",
       "612                       0                  0                        0   \n",
       "613                       0                  1                        1   \n",
       "\n",
       "     Property_Area_Urban  \n",
       "0                      1  \n",
       "1                      0  \n",
       "2                      1  \n",
       "3                      1  \n",
       "4                      1  \n",
       "..                   ...  \n",
       "609                    0  \n",
       "610                    0  \n",
       "611                    1  \n",
       "612                    1  \n",
       "613                    0  \n",
       "\n",
       "[614 rows x 9 columns]"
      ]
     },
     "execution_count": 25,
     "metadata": {},
     "output_type": "execute_result"
    }
   ],
   "source": [
    "df"
   ]
  },
  {
   "cell_type": "code",
   "execution_count": 26,
   "id": "155d409a",
   "metadata": {},
   "outputs": [],
   "source": [
    "data.drop(cat_cols, axis = 1, inplace = True)"
   ]
  },
  {
   "cell_type": "code",
   "execution_count": 27,
   "id": "44a51e5b",
   "metadata": {},
   "outputs": [
    {
     "data": {
      "text/html": [
       "<div>\n",
       "<style scoped>\n",
       "    .dataframe tbody tr th:only-of-type {\n",
       "        vertical-align: middle;\n",
       "    }\n",
       "\n",
       "    .dataframe tbody tr th {\n",
       "        vertical-align: top;\n",
       "    }\n",
       "\n",
       "    .dataframe thead th {\n",
       "        text-align: right;\n",
       "    }\n",
       "</style>\n",
       "<table border=\"1\" class=\"dataframe\">\n",
       "  <thead>\n",
       "    <tr style=\"text-align: right;\">\n",
       "      <th></th>\n",
       "      <th>ApplicantIncome</th>\n",
       "      <th>CoapplicantIncome</th>\n",
       "      <th>LoanAmount</th>\n",
       "      <th>Loan_Amount_Term</th>\n",
       "      <th>Credit_History</th>\n",
       "      <th>Loan_Status</th>\n",
       "    </tr>\n",
       "  </thead>\n",
       "  <tbody>\n",
       "    <tr>\n",
       "      <th>0</th>\n",
       "      <td>5849</td>\n",
       "      <td>0.0</td>\n",
       "      <td>146.412162</td>\n",
       "      <td>360.0</td>\n",
       "      <td>1.0</td>\n",
       "      <td>1</td>\n",
       "    </tr>\n",
       "    <tr>\n",
       "      <th>1</th>\n",
       "      <td>4583</td>\n",
       "      <td>1508.0</td>\n",
       "      <td>128.000000</td>\n",
       "      <td>360.0</td>\n",
       "      <td>1.0</td>\n",
       "      <td>0</td>\n",
       "    </tr>\n",
       "    <tr>\n",
       "      <th>2</th>\n",
       "      <td>3000</td>\n",
       "      <td>0.0</td>\n",
       "      <td>66.000000</td>\n",
       "      <td>360.0</td>\n",
       "      <td>1.0</td>\n",
       "      <td>1</td>\n",
       "    </tr>\n",
       "    <tr>\n",
       "      <th>3</th>\n",
       "      <td>2583</td>\n",
       "      <td>2358.0</td>\n",
       "      <td>120.000000</td>\n",
       "      <td>360.0</td>\n",
       "      <td>1.0</td>\n",
       "      <td>1</td>\n",
       "    </tr>\n",
       "    <tr>\n",
       "      <th>4</th>\n",
       "      <td>6000</td>\n",
       "      <td>0.0</td>\n",
       "      <td>141.000000</td>\n",
       "      <td>360.0</td>\n",
       "      <td>1.0</td>\n",
       "      <td>1</td>\n",
       "    </tr>\n",
       "    <tr>\n",
       "      <th>...</th>\n",
       "      <td>...</td>\n",
       "      <td>...</td>\n",
       "      <td>...</td>\n",
       "      <td>...</td>\n",
       "      <td>...</td>\n",
       "      <td>...</td>\n",
       "    </tr>\n",
       "    <tr>\n",
       "      <th>609</th>\n",
       "      <td>2900</td>\n",
       "      <td>0.0</td>\n",
       "      <td>71.000000</td>\n",
       "      <td>360.0</td>\n",
       "      <td>1.0</td>\n",
       "      <td>1</td>\n",
       "    </tr>\n",
       "    <tr>\n",
       "      <th>610</th>\n",
       "      <td>4106</td>\n",
       "      <td>0.0</td>\n",
       "      <td>40.000000</td>\n",
       "      <td>180.0</td>\n",
       "      <td>1.0</td>\n",
       "      <td>1</td>\n",
       "    </tr>\n",
       "    <tr>\n",
       "      <th>611</th>\n",
       "      <td>8072</td>\n",
       "      <td>240.0</td>\n",
       "      <td>253.000000</td>\n",
       "      <td>360.0</td>\n",
       "      <td>1.0</td>\n",
       "      <td>1</td>\n",
       "    </tr>\n",
       "    <tr>\n",
       "      <th>612</th>\n",
       "      <td>7583</td>\n",
       "      <td>0.0</td>\n",
       "      <td>187.000000</td>\n",
       "      <td>360.0</td>\n",
       "      <td>1.0</td>\n",
       "      <td>1</td>\n",
       "    </tr>\n",
       "    <tr>\n",
       "      <th>613</th>\n",
       "      <td>4583</td>\n",
       "      <td>0.0</td>\n",
       "      <td>133.000000</td>\n",
       "      <td>360.0</td>\n",
       "      <td>0.0</td>\n",
       "      <td>0</td>\n",
       "    </tr>\n",
       "  </tbody>\n",
       "</table>\n",
       "<p>614 rows × 6 columns</p>\n",
       "</div>"
      ],
      "text/plain": [
       "     ApplicantIncome  CoapplicantIncome  LoanAmount  Loan_Amount_Term  \\\n",
       "0               5849                0.0  146.412162             360.0   \n",
       "1               4583             1508.0  128.000000             360.0   \n",
       "2               3000                0.0   66.000000             360.0   \n",
       "3               2583             2358.0  120.000000             360.0   \n",
       "4               6000                0.0  141.000000             360.0   \n",
       "..               ...                ...         ...               ...   \n",
       "609             2900                0.0   71.000000             360.0   \n",
       "610             4106                0.0   40.000000             180.0   \n",
       "611             8072              240.0  253.000000             360.0   \n",
       "612             7583                0.0  187.000000             360.0   \n",
       "613             4583                0.0  133.000000             360.0   \n",
       "\n",
       "     Credit_History  Loan_Status  \n",
       "0               1.0            1  \n",
       "1               1.0            0  \n",
       "2               1.0            1  \n",
       "3               1.0            1  \n",
       "4               1.0            1  \n",
       "..              ...          ...  \n",
       "609             1.0            1  \n",
       "610             1.0            1  \n",
       "611             1.0            1  \n",
       "612             1.0            1  \n",
       "613             0.0            0  \n",
       "\n",
       "[614 rows x 6 columns]"
      ]
     },
     "execution_count": 27,
     "metadata": {},
     "output_type": "execute_result"
    }
   ],
   "source": [
    "data"
   ]
  },
  {
   "cell_type": "code",
   "execution_count": 28,
   "id": "4c03a09d",
   "metadata": {},
   "outputs": [],
   "source": [
    "num_cols = ['ApplicantIncome', 'CoapplicantIncome', 'LoanAmount', 'Loan_Amount_Term']"
   ]
  },
  {
   "cell_type": "code",
   "execution_count": 29,
   "id": "b7e1c342",
   "metadata": {},
   "outputs": [],
   "source": [
    "from sklearn.preprocessing import MinMaxScaler\n",
    "\n",
    "scale = MinMaxScaler()\n",
    "\n",
    "data[num_cols] = scale.fit_transform(data[num_cols])"
   ]
  },
  {
   "cell_type": "code",
   "execution_count": 30,
   "id": "5c6ca589",
   "metadata": {},
   "outputs": [
    {
     "data": {
      "text/html": [
       "<div>\n",
       "<style scoped>\n",
       "    .dataframe tbody tr th:only-of-type {\n",
       "        vertical-align: middle;\n",
       "    }\n",
       "\n",
       "    .dataframe tbody tr th {\n",
       "        vertical-align: top;\n",
       "    }\n",
       "\n",
       "    .dataframe thead th {\n",
       "        text-align: right;\n",
       "    }\n",
       "</style>\n",
       "<table border=\"1\" class=\"dataframe\">\n",
       "  <thead>\n",
       "    <tr style=\"text-align: right;\">\n",
       "      <th></th>\n",
       "      <th>ApplicantIncome</th>\n",
       "      <th>CoapplicantIncome</th>\n",
       "      <th>LoanAmount</th>\n",
       "      <th>Loan_Amount_Term</th>\n",
       "      <th>Credit_History</th>\n",
       "      <th>Loan_Status</th>\n",
       "    </tr>\n",
       "  </thead>\n",
       "  <tbody>\n",
       "    <tr>\n",
       "      <th>0</th>\n",
       "      <td>0.070489</td>\n",
       "      <td>0.000000</td>\n",
       "      <td>0.198860</td>\n",
       "      <td>0.74359</td>\n",
       "      <td>1.0</td>\n",
       "      <td>1</td>\n",
       "    </tr>\n",
       "    <tr>\n",
       "      <th>1</th>\n",
       "      <td>0.054830</td>\n",
       "      <td>0.036192</td>\n",
       "      <td>0.172214</td>\n",
       "      <td>0.74359</td>\n",
       "      <td>1.0</td>\n",
       "      <td>0</td>\n",
       "    </tr>\n",
       "    <tr>\n",
       "      <th>2</th>\n",
       "      <td>0.035250</td>\n",
       "      <td>0.000000</td>\n",
       "      <td>0.082489</td>\n",
       "      <td>0.74359</td>\n",
       "      <td>1.0</td>\n",
       "      <td>1</td>\n",
       "    </tr>\n",
       "    <tr>\n",
       "      <th>3</th>\n",
       "      <td>0.030093</td>\n",
       "      <td>0.056592</td>\n",
       "      <td>0.160637</td>\n",
       "      <td>0.74359</td>\n",
       "      <td>1.0</td>\n",
       "      <td>1</td>\n",
       "    </tr>\n",
       "    <tr>\n",
       "      <th>4</th>\n",
       "      <td>0.072356</td>\n",
       "      <td>0.000000</td>\n",
       "      <td>0.191027</td>\n",
       "      <td>0.74359</td>\n",
       "      <td>1.0</td>\n",
       "      <td>1</td>\n",
       "    </tr>\n",
       "  </tbody>\n",
       "</table>\n",
       "</div>"
      ],
      "text/plain": [
       "   ApplicantIncome  CoapplicantIncome  LoanAmount  Loan_Amount_Term  \\\n",
       "0         0.070489           0.000000    0.198860           0.74359   \n",
       "1         0.054830           0.036192    0.172214           0.74359   \n",
       "2         0.035250           0.000000    0.082489           0.74359   \n",
       "3         0.030093           0.056592    0.160637           0.74359   \n",
       "4         0.072356           0.000000    0.191027           0.74359   \n",
       "\n",
       "   Credit_History  Loan_Status  \n",
       "0             1.0            1  \n",
       "1             1.0            0  \n",
       "2             1.0            1  \n",
       "3             1.0            1  \n",
       "4             1.0            1  "
      ]
     },
     "execution_count": 30,
     "metadata": {},
     "output_type": "execute_result"
    }
   ],
   "source": [
    "data.head()"
   ]
  },
  {
   "cell_type": "code",
   "execution_count": 31,
   "id": "25850b4d",
   "metadata": {},
   "outputs": [],
   "source": [
    "new_data = pd.concat([df, data], axis = 1)"
   ]
  },
  {
   "cell_type": "code",
   "execution_count": 32,
   "id": "f8d4f6e7",
   "metadata": {},
   "outputs": [
    {
     "data": {
      "text/html": [
       "<div>\n",
       "<style scoped>\n",
       "    .dataframe tbody tr th:only-of-type {\n",
       "        vertical-align: middle;\n",
       "    }\n",
       "\n",
       "    .dataframe tbody tr th {\n",
       "        vertical-align: top;\n",
       "    }\n",
       "\n",
       "    .dataframe thead th {\n",
       "        text-align: right;\n",
       "    }\n",
       "</style>\n",
       "<table border=\"1\" class=\"dataframe\">\n",
       "  <thead>\n",
       "    <tr style=\"text-align: right;\">\n",
       "      <th></th>\n",
       "      <th>Gender_Male</th>\n",
       "      <th>Married_Yes</th>\n",
       "      <th>Dependents_1</th>\n",
       "      <th>Dependents_2</th>\n",
       "      <th>Dependents_3+</th>\n",
       "      <th>Education_Not Graduate</th>\n",
       "      <th>Self_Employed_Yes</th>\n",
       "      <th>Property_Area_Semiurban</th>\n",
       "      <th>Property_Area_Urban</th>\n",
       "      <th>ApplicantIncome</th>\n",
       "      <th>CoapplicantIncome</th>\n",
       "      <th>LoanAmount</th>\n",
       "      <th>Loan_Amount_Term</th>\n",
       "      <th>Credit_History</th>\n",
       "      <th>Loan_Status</th>\n",
       "    </tr>\n",
       "  </thead>\n",
       "  <tbody>\n",
       "    <tr>\n",
       "      <th>0</th>\n",
       "      <td>1</td>\n",
       "      <td>0</td>\n",
       "      <td>0</td>\n",
       "      <td>0</td>\n",
       "      <td>0</td>\n",
       "      <td>0</td>\n",
       "      <td>0</td>\n",
       "      <td>0</td>\n",
       "      <td>1</td>\n",
       "      <td>0.070489</td>\n",
       "      <td>0.000000</td>\n",
       "      <td>0.198860</td>\n",
       "      <td>0.74359</td>\n",
       "      <td>1.0</td>\n",
       "      <td>1</td>\n",
       "    </tr>\n",
       "    <tr>\n",
       "      <th>1</th>\n",
       "      <td>1</td>\n",
       "      <td>1</td>\n",
       "      <td>1</td>\n",
       "      <td>0</td>\n",
       "      <td>0</td>\n",
       "      <td>0</td>\n",
       "      <td>0</td>\n",
       "      <td>0</td>\n",
       "      <td>0</td>\n",
       "      <td>0.054830</td>\n",
       "      <td>0.036192</td>\n",
       "      <td>0.172214</td>\n",
       "      <td>0.74359</td>\n",
       "      <td>1.0</td>\n",
       "      <td>0</td>\n",
       "    </tr>\n",
       "    <tr>\n",
       "      <th>2</th>\n",
       "      <td>1</td>\n",
       "      <td>1</td>\n",
       "      <td>0</td>\n",
       "      <td>0</td>\n",
       "      <td>0</td>\n",
       "      <td>0</td>\n",
       "      <td>1</td>\n",
       "      <td>0</td>\n",
       "      <td>1</td>\n",
       "      <td>0.035250</td>\n",
       "      <td>0.000000</td>\n",
       "      <td>0.082489</td>\n",
       "      <td>0.74359</td>\n",
       "      <td>1.0</td>\n",
       "      <td>1</td>\n",
       "    </tr>\n",
       "    <tr>\n",
       "      <th>3</th>\n",
       "      <td>1</td>\n",
       "      <td>1</td>\n",
       "      <td>0</td>\n",
       "      <td>0</td>\n",
       "      <td>0</td>\n",
       "      <td>1</td>\n",
       "      <td>0</td>\n",
       "      <td>0</td>\n",
       "      <td>1</td>\n",
       "      <td>0.030093</td>\n",
       "      <td>0.056592</td>\n",
       "      <td>0.160637</td>\n",
       "      <td>0.74359</td>\n",
       "      <td>1.0</td>\n",
       "      <td>1</td>\n",
       "    </tr>\n",
       "    <tr>\n",
       "      <th>4</th>\n",
       "      <td>1</td>\n",
       "      <td>0</td>\n",
       "      <td>0</td>\n",
       "      <td>0</td>\n",
       "      <td>0</td>\n",
       "      <td>0</td>\n",
       "      <td>0</td>\n",
       "      <td>0</td>\n",
       "      <td>1</td>\n",
       "      <td>0.072356</td>\n",
       "      <td>0.000000</td>\n",
       "      <td>0.191027</td>\n",
       "      <td>0.74359</td>\n",
       "      <td>1.0</td>\n",
       "      <td>1</td>\n",
       "    </tr>\n",
       "  </tbody>\n",
       "</table>\n",
       "</div>"
      ],
      "text/plain": [
       "   Gender_Male  Married_Yes  Dependents_1  Dependents_2  Dependents_3+  \\\n",
       "0            1            0             0             0              0   \n",
       "1            1            1             1             0              0   \n",
       "2            1            1             0             0              0   \n",
       "3            1            1             0             0              0   \n",
       "4            1            0             0             0              0   \n",
       "\n",
       "   Education_Not Graduate  Self_Employed_Yes  Property_Area_Semiurban  \\\n",
       "0                       0                  0                        0   \n",
       "1                       0                  0                        0   \n",
       "2                       0                  1                        0   \n",
       "3                       1                  0                        0   \n",
       "4                       0                  0                        0   \n",
       "\n",
       "   Property_Area_Urban  ApplicantIncome  CoapplicantIncome  LoanAmount  \\\n",
       "0                    1         0.070489           0.000000    0.198860   \n",
       "1                    0         0.054830           0.036192    0.172214   \n",
       "2                    1         0.035250           0.000000    0.082489   \n",
       "3                    1         0.030093           0.056592    0.160637   \n",
       "4                    1         0.072356           0.000000    0.191027   \n",
       "\n",
       "   Loan_Amount_Term  Credit_History  Loan_Status  \n",
       "0           0.74359             1.0            1  \n",
       "1           0.74359             1.0            0  \n",
       "2           0.74359             1.0            1  \n",
       "3           0.74359             1.0            1  \n",
       "4           0.74359             1.0            1  "
      ]
     },
     "execution_count": 32,
     "metadata": {},
     "output_type": "execute_result"
    }
   ],
   "source": [
    "new_data.head()"
   ]
  },
  {
   "cell_type": "code",
   "execution_count": 33,
   "id": "bb4825d3",
   "metadata": {},
   "outputs": [],
   "source": [
    "x = new_data.drop('Loan_Status', axis = 1)\n",
    "\n",
    "y = new_data['Loan_Status']"
   ]
  },
  {
   "cell_type": "code",
   "execution_count": 34,
   "id": "0a8af0ee",
   "metadata": {},
   "outputs": [
    {
     "data": {
      "text/html": [
       "<div>\n",
       "<style scoped>\n",
       "    .dataframe tbody tr th:only-of-type {\n",
       "        vertical-align: middle;\n",
       "    }\n",
       "\n",
       "    .dataframe tbody tr th {\n",
       "        vertical-align: top;\n",
       "    }\n",
       "\n",
       "    .dataframe thead th {\n",
       "        text-align: right;\n",
       "    }\n",
       "</style>\n",
       "<table border=\"1\" class=\"dataframe\">\n",
       "  <thead>\n",
       "    <tr style=\"text-align: right;\">\n",
       "      <th></th>\n",
       "      <th>Gender_Male</th>\n",
       "      <th>Married_Yes</th>\n",
       "      <th>Dependents_1</th>\n",
       "      <th>Dependents_2</th>\n",
       "      <th>Dependents_3+</th>\n",
       "      <th>Education_Not Graduate</th>\n",
       "      <th>Self_Employed_Yes</th>\n",
       "      <th>Property_Area_Semiurban</th>\n",
       "      <th>Property_Area_Urban</th>\n",
       "      <th>ApplicantIncome</th>\n",
       "      <th>CoapplicantIncome</th>\n",
       "      <th>LoanAmount</th>\n",
       "      <th>Loan_Amount_Term</th>\n",
       "      <th>Credit_History</th>\n",
       "    </tr>\n",
       "  </thead>\n",
       "  <tbody>\n",
       "    <tr>\n",
       "      <th>0</th>\n",
       "      <td>1</td>\n",
       "      <td>0</td>\n",
       "      <td>0</td>\n",
       "      <td>0</td>\n",
       "      <td>0</td>\n",
       "      <td>0</td>\n",
       "      <td>0</td>\n",
       "      <td>0</td>\n",
       "      <td>1</td>\n",
       "      <td>0.070489</td>\n",
       "      <td>0.000000</td>\n",
       "      <td>0.198860</td>\n",
       "      <td>0.74359</td>\n",
       "      <td>1.0</td>\n",
       "    </tr>\n",
       "    <tr>\n",
       "      <th>1</th>\n",
       "      <td>1</td>\n",
       "      <td>1</td>\n",
       "      <td>1</td>\n",
       "      <td>0</td>\n",
       "      <td>0</td>\n",
       "      <td>0</td>\n",
       "      <td>0</td>\n",
       "      <td>0</td>\n",
       "      <td>0</td>\n",
       "      <td>0.054830</td>\n",
       "      <td>0.036192</td>\n",
       "      <td>0.172214</td>\n",
       "      <td>0.74359</td>\n",
       "      <td>1.0</td>\n",
       "    </tr>\n",
       "    <tr>\n",
       "      <th>2</th>\n",
       "      <td>1</td>\n",
       "      <td>1</td>\n",
       "      <td>0</td>\n",
       "      <td>0</td>\n",
       "      <td>0</td>\n",
       "      <td>0</td>\n",
       "      <td>1</td>\n",
       "      <td>0</td>\n",
       "      <td>1</td>\n",
       "      <td>0.035250</td>\n",
       "      <td>0.000000</td>\n",
       "      <td>0.082489</td>\n",
       "      <td>0.74359</td>\n",
       "      <td>1.0</td>\n",
       "    </tr>\n",
       "    <tr>\n",
       "      <th>3</th>\n",
       "      <td>1</td>\n",
       "      <td>1</td>\n",
       "      <td>0</td>\n",
       "      <td>0</td>\n",
       "      <td>0</td>\n",
       "      <td>1</td>\n",
       "      <td>0</td>\n",
       "      <td>0</td>\n",
       "      <td>1</td>\n",
       "      <td>0.030093</td>\n",
       "      <td>0.056592</td>\n",
       "      <td>0.160637</td>\n",
       "      <td>0.74359</td>\n",
       "      <td>1.0</td>\n",
       "    </tr>\n",
       "    <tr>\n",
       "      <th>4</th>\n",
       "      <td>1</td>\n",
       "      <td>0</td>\n",
       "      <td>0</td>\n",
       "      <td>0</td>\n",
       "      <td>0</td>\n",
       "      <td>0</td>\n",
       "      <td>0</td>\n",
       "      <td>0</td>\n",
       "      <td>1</td>\n",
       "      <td>0.072356</td>\n",
       "      <td>0.000000</td>\n",
       "      <td>0.191027</td>\n",
       "      <td>0.74359</td>\n",
       "      <td>1.0</td>\n",
       "    </tr>\n",
       "  </tbody>\n",
       "</table>\n",
       "</div>"
      ],
      "text/plain": [
       "   Gender_Male  Married_Yes  Dependents_1  Dependents_2  Dependents_3+  \\\n",
       "0            1            0             0             0              0   \n",
       "1            1            1             1             0              0   \n",
       "2            1            1             0             0              0   \n",
       "3            1            1             0             0              0   \n",
       "4            1            0             0             0              0   \n",
       "\n",
       "   Education_Not Graduate  Self_Employed_Yes  Property_Area_Semiurban  \\\n",
       "0                       0                  0                        0   \n",
       "1                       0                  0                        0   \n",
       "2                       0                  1                        0   \n",
       "3                       1                  0                        0   \n",
       "4                       0                  0                        0   \n",
       "\n",
       "   Property_Area_Urban  ApplicantIncome  CoapplicantIncome  LoanAmount  \\\n",
       "0                    1         0.070489           0.000000    0.198860   \n",
       "1                    0         0.054830           0.036192    0.172214   \n",
       "2                    1         0.035250           0.000000    0.082489   \n",
       "3                    1         0.030093           0.056592    0.160637   \n",
       "4                    1         0.072356           0.000000    0.191027   \n",
       "\n",
       "   Loan_Amount_Term  Credit_History  \n",
       "0           0.74359             1.0  \n",
       "1           0.74359             1.0  \n",
       "2           0.74359             1.0  \n",
       "3           0.74359             1.0  \n",
       "4           0.74359             1.0  "
      ]
     },
     "execution_count": 34,
     "metadata": {},
     "output_type": "execute_result"
    }
   ],
   "source": [
    "x.head()"
   ]
  },
  {
   "cell_type": "code",
   "execution_count": 35,
   "id": "be967fe7",
   "metadata": {},
   "outputs": [
    {
     "data": {
      "text/plain": [
       "0    1\n",
       "1    0\n",
       "2    1\n",
       "3    1\n",
       "4    1\n",
       "Name: Loan_Status, dtype: int64"
      ]
     },
     "execution_count": 35,
     "metadata": {},
     "output_type": "execute_result"
    }
   ],
   "source": [
    "y.head()"
   ]
  },
  {
   "cell_type": "code",
   "execution_count": 36,
   "id": "d0d91934",
   "metadata": {},
   "outputs": [],
   "source": [
    "from sklearn.model_selection import train_test_split\n",
    "\n",
    "x_train, x_test, y_train, y_test = train_test_split(x,y, test_size = 0.2, random_state = 0)"
   ]
  },
  {
   "cell_type": "code",
   "execution_count": 37,
   "id": "8dd5d7d7",
   "metadata": {},
   "outputs": [
    {
     "name": "stdout",
     "output_type": "stream",
     "text": [
      "(491, 14) (491,)\n"
     ]
    }
   ],
   "source": [
    "print(x_train.shape, y_train.shape)"
   ]
  },
  {
   "cell_type": "code",
   "execution_count": 38,
   "id": "2aa129d6",
   "metadata": {},
   "outputs": [],
   "source": [
    "from sklearn.linear_model import LogisticRegression"
   ]
  },
  {
   "cell_type": "code",
   "execution_count": 39,
   "id": "e6b90c5c",
   "metadata": {},
   "outputs": [],
   "source": [
    "model = LogisticRegression()"
   ]
  },
  {
   "cell_type": "code",
   "execution_count": 40,
   "id": "471af1ad",
   "metadata": {},
   "outputs": [
    {
     "data": {
      "text/plain": [
       "LogisticRegression()"
      ]
     },
     "execution_count": 40,
     "metadata": {},
     "output_type": "execute_result"
    }
   ],
   "source": [
    "model.fit(x_train, y_train)"
   ]
  },
  {
   "cell_type": "code",
   "execution_count": 41,
   "id": "bb4e0fad",
   "metadata": {},
   "outputs": [
    {
     "data": {
      "text/plain": [
       "array([[-0.06036651,  0.34239454, -0.22441145,  0.18946066,  0.27018585,\n",
       "        -0.37245861,  0.06085407,  0.72446958,  0.24517117,  0.24282869,\n",
       "        -0.80772318, -0.61118754, -0.36633534,  3.31920796]])"
      ]
     },
     "execution_count": 41,
     "metadata": {},
     "output_type": "execute_result"
    }
   ],
   "source": [
    "model.coef_"
   ]
  },
  {
   "cell_type": "code",
   "execution_count": 44,
   "id": "f308a3e6",
   "metadata": {},
   "outputs": [],
   "source": [
    "y_pred=model.predict_proba(x_train)"
   ]
  },
  {
   "cell_type": "code",
   "execution_count": 45,
   "id": "aa2d4fc4",
   "metadata": {},
   "outputs": [
    {
     "data": {
      "text/plain": [
       "array([[0.14600756, 0.85399244],\n",
       "       [0.22739359, 0.77260641],\n",
       "       [0.90616968, 0.09383032],\n",
       "       [0.22830829, 0.77169171],\n",
       "       [0.12201291, 0.87798709],\n",
       "       [0.26397504, 0.73602496],\n",
       "       [0.1610499 , 0.8389501 ],\n",
       "       [0.22548266, 0.77451734],\n",
       "       [0.34566864, 0.65433136],\n",
       "       [0.19533088, 0.80466912],\n",
       "       [0.23733952, 0.76266048],\n",
       "       [0.30527267, 0.69472733],\n",
       "       [0.16381677, 0.83618323],\n",
       "       [0.29433261, 0.70566739],\n",
       "       [0.20839981, 0.79160019],\n",
       "       [0.17750845, 0.82249155],\n",
       "       [0.25809974, 0.74190026],\n",
       "       [0.31098019, 0.68901981],\n",
       "       [0.23349688, 0.76650312],\n",
       "       [0.92035398, 0.07964602],\n",
       "       [0.26451677, 0.73548323],\n",
       "       [0.15604675, 0.84395325],\n",
       "       [0.3778199 , 0.6221801 ],\n",
       "       [0.1380606 , 0.8619394 ],\n",
       "       [0.20726293, 0.79273707],\n",
       "       [0.913225  , 0.086775  ],\n",
       "       [0.85732667, 0.14267333],\n",
       "       [0.15303335, 0.84696665],\n",
       "       [0.20369599, 0.79630401],\n",
       "       [0.23574816, 0.76425184],\n",
       "       [0.85026907, 0.14973093],\n",
       "       [0.23079907, 0.76920093],\n",
       "       [0.32658629, 0.67341371],\n",
       "       [0.3025284 , 0.6974716 ],\n",
       "       [0.259575  , 0.740425  ],\n",
       "       [0.25095598, 0.74904402],\n",
       "       [0.39986494, 0.60013506],\n",
       "       [0.23467861, 0.76532139],\n",
       "       [0.17294576, 0.82705424],\n",
       "       [0.2697603 , 0.7302397 ],\n",
       "       [0.20241286, 0.79758714],\n",
       "       [0.15566933, 0.84433067],\n",
       "       [0.32746248, 0.67253752],\n",
       "       [0.20397007, 0.79602993],\n",
       "       [0.37782751, 0.62217249],\n",
       "       [0.87313922, 0.12686078],\n",
       "       [0.18633083, 0.81366917],\n",
       "       [0.84745644, 0.15254356],\n",
       "       [0.17346803, 0.82653197],\n",
       "       [0.279251  , 0.720749  ],\n",
       "       [0.14311126, 0.85688874],\n",
       "       [0.34046188, 0.65953812],\n",
       "       [0.40036745, 0.59963255],\n",
       "       [0.39475639, 0.60524361],\n",
       "       [0.14352829, 0.85647171],\n",
       "       [0.20379342, 0.79620658],\n",
       "       [0.25855692, 0.74144308],\n",
       "       [0.24901052, 0.75098948],\n",
       "       [0.21645172, 0.78354828],\n",
       "       [0.12265772, 0.87734228],\n",
       "       [0.25647082, 0.74352918],\n",
       "       [0.18070851, 0.81929149],\n",
       "       [0.36919338, 0.63080662],\n",
       "       [0.23723204, 0.76276796],\n",
       "       [0.1427115 , 0.8572885 ],\n",
       "       [0.90742889, 0.09257111],\n",
       "       [0.11294674, 0.88705326],\n",
       "       [0.22330914, 0.77669086],\n",
       "       [0.24295171, 0.75704829],\n",
       "       [0.21235533, 0.78764467],\n",
       "       [0.34298746, 0.65701254],\n",
       "       [0.86951241, 0.13048759],\n",
       "       [0.23048244, 0.76951756],\n",
       "       [0.15729752, 0.84270248],\n",
       "       [0.21355323, 0.78644677],\n",
       "       [0.82398792, 0.17601208],\n",
       "       [0.20153016, 0.79846984],\n",
       "       [0.32528744, 0.67471256],\n",
       "       [0.29498704, 0.70501296],\n",
       "       [0.21083384, 0.78916616],\n",
       "       [0.87460082, 0.12539918],\n",
       "       [0.3411871 , 0.6588129 ],\n",
       "       [0.25621754, 0.74378246],\n",
       "       [0.26568723, 0.73431277],\n",
       "       [0.16895764, 0.83104236],\n",
       "       [0.14832449, 0.85167551],\n",
       "       [0.1192054 , 0.8807946 ],\n",
       "       [0.1667772 , 0.8332228 ],\n",
       "       [0.2062153 , 0.7937847 ],\n",
       "       [0.1683827 , 0.8316173 ],\n",
       "       [0.93542338, 0.06457662],\n",
       "       [0.12307551, 0.87692449],\n",
       "       [0.92903948, 0.07096052],\n",
       "       [0.25448654, 0.74551346],\n",
       "       [0.93559831, 0.06440169],\n",
       "       [0.2811679 , 0.7188321 ],\n",
       "       [0.17446009, 0.82553991],\n",
       "       [0.21324004, 0.78675996],\n",
       "       [0.2075455 , 0.7924545 ],\n",
       "       [0.16391415, 0.83608585],\n",
       "       [0.88367946, 0.11632054],\n",
       "       [0.22804041, 0.77195959],\n",
       "       [0.27709075, 0.72290925],\n",
       "       [0.13212436, 0.86787564],\n",
       "       [0.87204534, 0.12795466],\n",
       "       [0.30186059, 0.69813941],\n",
       "       [0.27992213, 0.72007787],\n",
       "       [0.93469682, 0.06530318],\n",
       "       [0.25442395, 0.74557605],\n",
       "       [0.19775551, 0.80224449],\n",
       "       [0.24965692, 0.75034308],\n",
       "       [0.17296499, 0.82703501],\n",
       "       [0.31901875, 0.68098125],\n",
       "       [0.78562096, 0.21437904],\n",
       "       [0.14741389, 0.85258611],\n",
       "       [0.94208752, 0.05791248],\n",
       "       [0.86776642, 0.13223358],\n",
       "       [0.31376744, 0.68623256],\n",
       "       [0.28552113, 0.71447887],\n",
       "       [0.93650783, 0.06349217],\n",
       "       [0.40240617, 0.59759383],\n",
       "       [0.8004679 , 0.1995321 ],\n",
       "       [0.26186282, 0.73813718],\n",
       "       [0.12901718, 0.87098282],\n",
       "       [0.19872568, 0.80127432],\n",
       "       [0.13332759, 0.86667241],\n",
       "       [0.9097413 , 0.0902587 ],\n",
       "       [0.2831477 , 0.7168523 ],\n",
       "       [0.89940743, 0.10059257],\n",
       "       [0.26989097, 0.73010903],\n",
       "       [0.2929776 , 0.7070224 ],\n",
       "       [0.18422469, 0.81577531],\n",
       "       [0.22410915, 0.77589085],\n",
       "       [0.22442648, 0.77557352],\n",
       "       [0.17641389, 0.82358611],\n",
       "       [0.20544368, 0.79455632],\n",
       "       [0.38914309, 0.61085691],\n",
       "       [0.13941998, 0.86058002],\n",
       "       [0.21789933, 0.78210067],\n",
       "       [0.18423657, 0.81576343],\n",
       "       [0.17508609, 0.82491391],\n",
       "       [0.27900446, 0.72099554],\n",
       "       [0.17505367, 0.82494633],\n",
       "       [0.19172412, 0.80827588],\n",
       "       [0.25673022, 0.74326978],\n",
       "       [0.25377041, 0.74622959],\n",
       "       [0.91334777, 0.08665223],\n",
       "       [0.26238467, 0.73761533],\n",
       "       [0.3062371 , 0.6937629 ],\n",
       "       [0.13698736, 0.86301264],\n",
       "       [0.22088271, 0.77911729],\n",
       "       [0.1144972 , 0.8855028 ],\n",
       "       [0.89481193, 0.10518807],\n",
       "       [0.22458023, 0.77541977],\n",
       "       [0.34641879, 0.65358121],\n",
       "       [0.25477196, 0.74522804],\n",
       "       [0.25077892, 0.74922108],\n",
       "       [0.93589065, 0.06410935],\n",
       "       [0.27546282, 0.72453718],\n",
       "       [0.32427736, 0.67572264],\n",
       "       [0.32628562, 0.67371438],\n",
       "       [0.1750044 , 0.8249956 ],\n",
       "       [0.24769994, 0.75230006],\n",
       "       [0.29877283, 0.70122717],\n",
       "       [0.11571687, 0.88428313],\n",
       "       [0.11139882, 0.88860118],\n",
       "       [0.15455192, 0.84544808],\n",
       "       [0.26872921, 0.73127079],\n",
       "       [0.12715312, 0.87284688],\n",
       "       [0.24226451, 0.75773549],\n",
       "       [0.28203767, 0.71796233],\n",
       "       [0.14457527, 0.85542473],\n",
       "       [0.197935  , 0.802065  ],\n",
       "       [0.27379609, 0.72620391],\n",
       "       [0.2208895 , 0.7791105 ],\n",
       "       [0.14125247, 0.85874753],\n",
       "       [0.91508343, 0.08491657],\n",
       "       [0.26250016, 0.73749984],\n",
       "       [0.8692153 , 0.1307847 ],\n",
       "       [0.15513244, 0.84486756],\n",
       "       [0.24276725, 0.75723275],\n",
       "       [0.25946537, 0.74053463],\n",
       "       [0.77294165, 0.22705835],\n",
       "       [0.13863322, 0.86136678],\n",
       "       [0.87162902, 0.12837098],\n",
       "       [0.14853817, 0.85146183],\n",
       "       [0.26676324, 0.73323676],\n",
       "       [0.16197571, 0.83802429],\n",
       "       [0.20444927, 0.79555073],\n",
       "       [0.11671109, 0.88328891],\n",
       "       [0.85827074, 0.14172926],\n",
       "       [0.10808898, 0.89191102],\n",
       "       [0.18911943, 0.81088057],\n",
       "       [0.26451143, 0.73548857],\n",
       "       [0.35184425, 0.64815575],\n",
       "       [0.3012197 , 0.6987803 ],\n",
       "       [0.18520078, 0.81479922],\n",
       "       [0.24601117, 0.75398883],\n",
       "       [0.18034618, 0.81965382],\n",
       "       [0.18572134, 0.81427866],\n",
       "       [0.13956887, 0.86043113],\n",
       "       [0.18053172, 0.81946828],\n",
       "       [0.24890491, 0.75109509],\n",
       "       [0.17469237, 0.82530763],\n",
       "       [0.18952816, 0.81047184],\n",
       "       [0.79326099, 0.20673901],\n",
       "       [0.9208004 , 0.0791996 ],\n",
       "       [0.24480645, 0.75519355],\n",
       "       [0.26085108, 0.73914892],\n",
       "       [0.12376526, 0.87623474],\n",
       "       [0.2466821 , 0.7533179 ],\n",
       "       [0.85231995, 0.14768005],\n",
       "       [0.13228742, 0.86771258],\n",
       "       [0.18368529, 0.81631471],\n",
       "       [0.24679622, 0.75320378],\n",
       "       [0.31934296, 0.68065704],\n",
       "       [0.43332745, 0.56667255],\n",
       "       [0.90469169, 0.09530831],\n",
       "       [0.13639559, 0.86360441],\n",
       "       [0.13926371, 0.86073629],\n",
       "       [0.92704262, 0.07295738],\n",
       "       [0.25044496, 0.74955504],\n",
       "       [0.26959303, 0.73040697],\n",
       "       [0.20520153, 0.79479847],\n",
       "       [0.24858206, 0.75141794],\n",
       "       [0.29473639, 0.70526361],\n",
       "       [0.25029167, 0.74970833],\n",
       "       [0.19054898, 0.80945102],\n",
       "       [0.85559148, 0.14440852],\n",
       "       [0.1882143 , 0.8117857 ],\n",
       "       [0.2835558 , 0.7164442 ],\n",
       "       [0.11972031, 0.88027969],\n",
       "       [0.11044366, 0.88955634],\n",
       "       [0.15673442, 0.84326558],\n",
       "       [0.32612637, 0.67387363],\n",
       "       [0.3016477 , 0.6983523 ],\n",
       "       [0.84246737, 0.15753263],\n",
       "       [0.28246296, 0.71753704],\n",
       "       [0.18274369, 0.81725631],\n",
       "       [0.31593173, 0.68406827],\n",
       "       [0.26472175, 0.73527825],\n",
       "       [0.33562021, 0.66437979],\n",
       "       [0.1803785 , 0.8196215 ],\n",
       "       [0.21757061, 0.78242939],\n",
       "       [0.22801266, 0.77198734],\n",
       "       [0.86704421, 0.13295579],\n",
       "       [0.24546348, 0.75453652],\n",
       "       [0.40026507, 0.59973493],\n",
       "       [0.17243374, 0.82756626],\n",
       "       [0.28691698, 0.71308302],\n",
       "       [0.26161752, 0.73838248],\n",
       "       [0.30336959, 0.69663041],\n",
       "       [0.23061711, 0.76938289],\n",
       "       [0.17567449, 0.82432551],\n",
       "       [0.90649735, 0.09350265],\n",
       "       [0.24296304, 0.75703696],\n",
       "       [0.3803904 , 0.6196096 ],\n",
       "       [0.26145656, 0.73854344],\n",
       "       [0.13663678, 0.86336322],\n",
       "       [0.27351386, 0.72648614],\n",
       "       [0.41161122, 0.58838878],\n",
       "       [0.10280301, 0.89719699],\n",
       "       [0.14102166, 0.85897834],\n",
       "       [0.2793363 , 0.7206637 ],\n",
       "       [0.26029184, 0.73970816],\n",
       "       [0.25315753, 0.74684247],\n",
       "       [0.8878877 , 0.1121123 ],\n",
       "       [0.29122877, 0.70877123],\n",
       "       [0.16220864, 0.83779136],\n",
       "       [0.24448388, 0.75551612],\n",
       "       [0.24525804, 0.75474196],\n",
       "       [0.17918904, 0.82081096],\n",
       "       [0.17972746, 0.82027254],\n",
       "       [0.22123467, 0.77876533],\n",
       "       [0.26297046, 0.73702954],\n",
       "       [0.30592685, 0.69407315],\n",
       "       [0.77711768, 0.22288232],\n",
       "       [0.3055022 , 0.6944978 ],\n",
       "       [0.87990493, 0.12009507],\n",
       "       [0.23492103, 0.76507897],\n",
       "       [0.82457706, 0.17542294],\n",
       "       [0.14655216, 0.85344784],\n",
       "       [0.16629858, 0.83370142],\n",
       "       [0.21628811, 0.78371189],\n",
       "       [0.12084642, 0.87915358],\n",
       "       [0.15425087, 0.84574913],\n",
       "       [0.16181821, 0.83818179],\n",
       "       [0.12348045, 0.87651955],\n",
       "       [0.19200528, 0.80799472],\n",
       "       [0.29288901, 0.70711099],\n",
       "       [0.92389964, 0.07610036],\n",
       "       [0.1430259 , 0.8569741 ],\n",
       "       [0.23823021, 0.76176979],\n",
       "       [0.26238238, 0.73761762],\n",
       "       [0.16900715, 0.83099285],\n",
       "       [0.2979485 , 0.7020515 ],\n",
       "       [0.21521469, 0.78478531],\n",
       "       [0.38303303, 0.61696697],\n",
       "       [0.87002006, 0.12997994],\n",
       "       [0.25016758, 0.74983242],\n",
       "       [0.21324205, 0.78675795],\n",
       "       [0.28583291, 0.71416709],\n",
       "       [0.15716431, 0.84283569],\n",
       "       [0.19291652, 0.80708348],\n",
       "       [0.15042762, 0.84957238],\n",
       "       [0.19661992, 0.80338008],\n",
       "       [0.2301215 , 0.7698785 ],\n",
       "       [0.21755725, 0.78244275],\n",
       "       [0.3230447 , 0.6769553 ],\n",
       "       [0.16130436, 0.83869564],\n",
       "       [0.17419051, 0.82580949],\n",
       "       [0.15074273, 0.84925727],\n",
       "       [0.27247924, 0.72752076],\n",
       "       [0.17858591, 0.82141409],\n",
       "       [0.22079051, 0.77920949],\n",
       "       [0.25900501, 0.74099499],\n",
       "       [0.91491864, 0.08508136],\n",
       "       [0.15919393, 0.84080607],\n",
       "       [0.14283383, 0.85716617],\n",
       "       [0.26649512, 0.73350488],\n",
       "       [0.2836715 , 0.7163285 ],\n",
       "       [0.13818362, 0.86181638],\n",
       "       [0.23504068, 0.76495932],\n",
       "       [0.85351833, 0.14648167],\n",
       "       [0.40026269, 0.59973731],\n",
       "       [0.90760177, 0.09239823],\n",
       "       [0.25964285, 0.74035715],\n",
       "       [0.11394781, 0.88605219],\n",
       "       [0.29113761, 0.70886239],\n",
       "       [0.1491752 , 0.8508248 ],\n",
       "       [0.12469983, 0.87530017],\n",
       "       [0.15495127, 0.84504873],\n",
       "       [0.14146506, 0.85853494],\n",
       "       [0.3290951 , 0.6709049 ],\n",
       "       [0.25517283, 0.74482717],\n",
       "       [0.92803054, 0.07196946],\n",
       "       [0.16506253, 0.83493747],\n",
       "       [0.2234224 , 0.7765776 ],\n",
       "       [0.15315416, 0.84684584],\n",
       "       [0.30788676, 0.69211324],\n",
       "       [0.20333692, 0.79666308],\n",
       "       [0.22604892, 0.77395108],\n",
       "       [0.15849376, 0.84150624],\n",
       "       [0.28630291, 0.71369709],\n",
       "       [0.2441384 , 0.7558616 ],\n",
       "       [0.25905934, 0.74094066],\n",
       "       [0.26657472, 0.73342528],\n",
       "       [0.13174411, 0.86825589],\n",
       "       [0.85891469, 0.14108531],\n",
       "       [0.13586185, 0.86413815],\n",
       "       [0.26826409, 0.73173591],\n",
       "       [0.13974484, 0.86025516],\n",
       "       [0.33123608, 0.66876392],\n",
       "       [0.28506277, 0.71493723],\n",
       "       [0.37117349, 0.62882651],\n",
       "       [0.36960257, 0.63039743],\n",
       "       [0.18105652, 0.81894348],\n",
       "       [0.16223088, 0.83776912],\n",
       "       [0.30991205, 0.69008795],\n",
       "       [0.14538289, 0.85461711],\n",
       "       [0.23974599, 0.76025401],\n",
       "       [0.290534  , 0.709466  ],\n",
       "       [0.24388699, 0.75611301],\n",
       "       [0.22465856, 0.77534144],\n",
       "       [0.2953053 , 0.7046947 ],\n",
       "       [0.20443819, 0.79556181],\n",
       "       [0.24024682, 0.75975318],\n",
       "       [0.20797997, 0.79202003],\n",
       "       [0.31911131, 0.68088869],\n",
       "       [0.89678231, 0.10321769],\n",
       "       [0.1861447 , 0.8138553 ],\n",
       "       [0.91872625, 0.08127375],\n",
       "       [0.25574602, 0.74425398],\n",
       "       [0.9375088 , 0.0624912 ],\n",
       "       [0.33017964, 0.66982036],\n",
       "       [0.2137444 , 0.7862556 ],\n",
       "       [0.2012114 , 0.7987886 ],\n",
       "       [0.1752591 , 0.8247409 ],\n",
       "       [0.20587562, 0.79412438],\n",
       "       [0.30100423, 0.69899577],\n",
       "       [0.20369468, 0.79630532],\n",
       "       [0.26294381, 0.73705619],\n",
       "       [0.19921032, 0.80078968],\n",
       "       [0.2821915 , 0.7178085 ],\n",
       "       [0.28100136, 0.71899864],\n",
       "       [0.29905564, 0.70094436],\n",
       "       [0.94892608, 0.05107392],\n",
       "       [0.16216356, 0.83783644],\n",
       "       [0.24347213, 0.75652787],\n",
       "       [0.14670297, 0.85329703],\n",
       "       [0.27734637, 0.72265363],\n",
       "       [0.12952171, 0.87047829],\n",
       "       [0.11947592, 0.88052408],\n",
       "       [0.25324557, 0.74675443],\n",
       "       [0.17137844, 0.82862156],\n",
       "       [0.29984666, 0.70015334],\n",
       "       [0.11715914, 0.88284086],\n",
       "       [0.34992248, 0.65007752],\n",
       "       [0.17353044, 0.82646956],\n",
       "       [0.90652821, 0.09347179],\n",
       "       [0.18019042, 0.81980958],\n",
       "       [0.14461259, 0.85538741],\n",
       "       [0.16381079, 0.83618921],\n",
       "       [0.87693199, 0.12306801],\n",
       "       [0.25976356, 0.74023644],\n",
       "       [0.25959134, 0.74040866],\n",
       "       [0.20958353, 0.79041647],\n",
       "       [0.18467247, 0.81532753],\n",
       "       [0.32701979, 0.67298021],\n",
       "       [0.11343107, 0.88656893],\n",
       "       [0.16675989, 0.83324011],\n",
       "       [0.13854517, 0.86145483],\n",
       "       [0.36346895, 0.63653105],\n",
       "       [0.91858897, 0.08141103],\n",
       "       [0.14916329, 0.85083671],\n",
       "       [0.15355635, 0.84644365],\n",
       "       [0.18555824, 0.81444176],\n",
       "       [0.25408606, 0.74591394],\n",
       "       [0.84220363, 0.15779637],\n",
       "       [0.17232129, 0.82767871],\n",
       "       [0.91854587, 0.08145413],\n",
       "       [0.18237563, 0.81762437],\n",
       "       [0.94846707, 0.05153293],\n",
       "       [0.33995098, 0.66004902],\n",
       "       [0.26920865, 0.73079135],\n",
       "       [0.20924738, 0.79075262],\n",
       "       [0.12281327, 0.87718673],\n",
       "       [0.3516441 , 0.6483559 ],\n",
       "       [0.91852323, 0.08147677],\n",
       "       [0.12796242, 0.87203758],\n",
       "       [0.14304439, 0.85695561],\n",
       "       [0.91482166, 0.08517834],\n",
       "       [0.26678906, 0.73321094],\n",
       "       [0.20746351, 0.79253649],\n",
       "       [0.2218557 , 0.7781443 ],\n",
       "       [0.32664289, 0.67335711],\n",
       "       [0.21628623, 0.78371377],\n",
       "       [0.40777845, 0.59222155],\n",
       "       [0.118919  , 0.881081  ],\n",
       "       [0.17946757, 0.82053243],\n",
       "       [0.20147391, 0.79852609],\n",
       "       [0.27481779, 0.72518221],\n",
       "       [0.78573353, 0.21426647],\n",
       "       [0.25863957, 0.74136043],\n",
       "       [0.10915988, 0.89084012],\n",
       "       [0.16070676, 0.83929324],\n",
       "       [0.20823877, 0.79176123],\n",
       "       [0.20925935, 0.79074065],\n",
       "       [0.19924201, 0.80075799],\n",
       "       [0.21584791, 0.78415209],\n",
       "       [0.13331238, 0.86668762],\n",
       "       [0.14659417, 0.85340583],\n",
       "       [0.11798552, 0.88201448],\n",
       "       [0.87798399, 0.12201601],\n",
       "       [0.17726775, 0.82273225],\n",
       "       [0.28528823, 0.71471177],\n",
       "       [0.88857594, 0.11142406],\n",
       "       [0.32988881, 0.67011119],\n",
       "       [0.17125768, 0.82874232],\n",
       "       [0.14027869, 0.85972131],\n",
       "       [0.40430694, 0.59569306],\n",
       "       [0.25607834, 0.74392166],\n",
       "       [0.20216469, 0.79783531],\n",
       "       [0.33228279, 0.66771721],\n",
       "       [0.17896666, 0.82103334],\n",
       "       [0.33748523, 0.66251477],\n",
       "       [0.17391845, 0.82608155],\n",
       "       [0.89909388, 0.10090612],\n",
       "       [0.23573314, 0.76426686],\n",
       "       [0.85319312, 0.14680688],\n",
       "       [0.14801732, 0.85198268],\n",
       "       [0.88899759, 0.11100241],\n",
       "       [0.92621534, 0.07378466],\n",
       "       [0.26861704, 0.73138296],\n",
       "       [0.17180261, 0.82819739],\n",
       "       [0.15541396, 0.84458604],\n",
       "       [0.17658039, 0.82341961],\n",
       "       [0.14137346, 0.85862654],\n",
       "       [0.3917243 , 0.6082757 ],\n",
       "       [0.91110903, 0.08889097],\n",
       "       [0.26191056, 0.73808944],\n",
       "       [0.90063649, 0.09936351],\n",
       "       [0.38623269, 0.61376731],\n",
       "       [0.10666283, 0.89333717],\n",
       "       [0.22300597, 0.77699403],\n",
       "       [0.18434767, 0.81565233],\n",
       "       [0.20366771, 0.79633229],\n",
       "       [0.22752924, 0.77247076],\n",
       "       [0.12165201, 0.87834799],\n",
       "       [0.27801903, 0.72198097],\n",
       "       [0.1422525 , 0.8577475 ]])"
      ]
     },
     "execution_count": 45,
     "metadata": {},
     "output_type": "execute_result"
    }
   ],
   "source": [
    "y_pred"
   ]
  },
  {
   "cell_type": "code",
   "execution_count": 46,
   "id": "96abf51d",
   "metadata": {},
   "outputs": [],
   "source": [
    "test_predict = model.predict(x_test)"
   ]
  },
  {
   "cell_type": "code",
   "execution_count": 47,
   "id": "5fb54783",
   "metadata": {},
   "outputs": [],
   "source": [
    "from sklearn.metrics import accuracy_score,confusion_matrix,classification_report"
   ]
  },
  {
   "cell_type": "code",
   "execution_count": 48,
   "id": "7d13e852",
   "metadata": {},
   "outputs": [],
   "source": [
    "y_pred=model.predict(x_test)"
   ]
  },
  {
   "cell_type": "code",
   "execution_count": 49,
   "id": "2623108c",
   "metadata": {},
   "outputs": [
    {
     "data": {
      "text/plain": [
       "454    1\n",
       "52     0\n",
       "536    1\n",
       "469    0\n",
       "55     1\n",
       "      ..\n",
       "337    1\n",
       "376    1\n",
       "278    1\n",
       "466    0\n",
       "303    1\n",
       "Name: Loan_Status, Length: 123, dtype: int64"
      ]
     },
     "execution_count": 49,
     "metadata": {},
     "output_type": "execute_result"
    }
   ],
   "source": [
    "y_test"
   ]
  },
  {
   "cell_type": "code",
   "execution_count": 50,
   "id": "326cd841",
   "metadata": {},
   "outputs": [
    {
     "data": {
      "text/plain": [
       "0.8292682926829268"
      ]
     },
     "execution_count": 50,
     "metadata": {},
     "output_type": "execute_result"
    }
   ],
   "source": [
    "accuracy_score(y_test,y_pred)"
   ]
  },
  {
   "cell_type": "code",
   "execution_count": 51,
   "id": "162785b3",
   "metadata": {},
   "outputs": [
    {
     "data": {
      "text/plain": [
       "array([[14, 19],\n",
       "       [ 2, 88]], dtype=int64)"
      ]
     },
     "execution_count": 51,
     "metadata": {},
     "output_type": "execute_result"
    }
   ],
   "source": [
    "confusion_matrix(y_test,y_pred)"
   ]
  },
  {
   "cell_type": "code",
   "execution_count": 52,
   "id": "471685c4",
   "metadata": {},
   "outputs": [],
   "source": [
    "from sklearn.metrics import plot_confusion_matrix"
   ]
  },
  {
   "cell_type": "code",
   "execution_count": 53,
   "id": "0bcd6117",
   "metadata": {},
   "outputs": [
    {
     "data": {
      "text/plain": [
       "<sklearn.metrics._plot.confusion_matrix.ConfusionMatrixDisplay at 0x14d7bc16d90>"
      ]
     },
     "execution_count": 53,
     "metadata": {},
     "output_type": "execute_result"
    },
    {
     "data": {
      "image/png": "[encoded data removed]",
      "text/plain": [
       "<Figure size 432x288 with 2 Axes>"
      ]
     },
     "metadata": {
      "needs_background": "light"
     },
     "output_type": "display_data"
    }
   ],
   "source": [
    "plot_confusion_matrix(model,x_test,y_test)"
   ]
  },
  {
   "cell_type": "code",
   "execution_count": 55,
   "id": "e8c95fad",
   "metadata": {},
   "outputs": [
    {
     "name": "stdout",
     "output_type": "stream",
     "text": [
      "              precision    recall  f1-score   support\n",
      "\n",
      "           0       0.88      0.42      0.57        33\n",
      "           1       0.82      0.98      0.89        90\n",
      "\n",
      "    accuracy                           0.83       123\n",
      "   macro avg       0.85      0.70      0.73       123\n",
      "weighted avg       0.84      0.83      0.81       123\n",
      "\n"
     ]
    }
   ],
   "source": [
    "print(classification_report(y_test,y_pred))"
   ]
  },
  {
   "cell_type": "code",
   "execution_count": 56,
   "id": "686fa192",
   "metadata": {},
   "outputs": [],
   "source": [
    "from sklearn.metrics import precision_score,recall_score"
   ]
  },
  {
   "cell_type": "code",
   "execution_count": 57,
   "id": "55013110",
   "metadata": {},
   "outputs": [
    {
     "data": {
      "text/plain": [
       "0.822429906542056"
      ]
     },
     "execution_count": 57,
     "metadata": {},
     "output_type": "execute_result"
    }
   ],
   "source": [
    "precision_score(y_test,y_pred)"
   ]
  },
  {
   "cell_type": "code",
   "execution_count": 58,
   "id": "adef1606",
   "metadata": {},
   "outputs": [
    {
     "data": {
      "text/plain": [
       "0.9777777777777777"
      ]
     },
     "execution_count": 58,
     "metadata": {},
     "output_type": "execute_result"
    }
   ],
   "source": [
    "recall_score(y_test,y_pred)"
   ]
  },
  {
   "cell_type": "code",
   "execution_count": 59,
   "id": "aec382c9",
   "metadata": {},
   "outputs": [],
   "source": [
    "from sklearn.metrics import plot_precision_recall_curve,plot_roc_curve"
   ]
  },
  {
   "cell_type": "code",
   "execution_count": 60,
   "id": "33a3dd65",
   "metadata": {},
   "outputs": [
    {
     "data": {
      "text/plain": [
       "<sklearn.metrics._plot.roc_curve.RocCurveDisplay at 0x14d7c743730>"
      ]
     },
     "execution_count": 60,
     "metadata": {},
     "output_type": "execute_result"
    },
    {
     "data": {
      "image/png": "[encoded data removed]",
      "text/plain": [
       "<Figure size 432x288 with 1 Axes>"
      ]
     },
     "metadata": {
      "needs_background": "light"
     },
     "output_type": "display_data"
    }
   ],
   "source": [
    "plot_roc_curve(model,x_test,y_test)"
   ]
  },
  {
   "cell_type": "code",
   "execution_count": 61,
   "id": "ec80ee3b",
   "metadata": {},
   "outputs": [
    {
     "data": {
      "text/plain": [
       "<sklearn.metrics._plot.precision_recall_curve.PrecisionRecallDisplay at 0x14d7b90fbb0>"
      ]
     },
     "execution_count": 61,
     "metadata": {},
     "output_type": "execute_result"
    },
    {
     "data": {
      "image/png": "[encoded data removed]",
      "text/plain": [
       "<Figure size 432x288 with 1 Axes>"
      ]
     },
     "metadata": {
      "needs_background": "light"
     },
     "output_type": "display_data"
    }
   ],
   "source": [
    "plot_precision_recall_curve(model,x_test,y_test)"
   ]
  },
  {
   "cell_type": "code",
   "execution_count": 62,
   "id": "3d002686",
   "metadata": {},
   "outputs": [
    {
     "data": {
      "text/plain": [
       "array([0.16869461, 0.83130539])"
      ]
     },
     "execution_count": 62,
     "metadata": {},
     "output_type": "execute_result"
    }
   ],
   "source": [
    "model.predict_proba(x_test)[0]"
   ]
  },
  {
   "cell_type": "code",
   "execution_count": null,
   "id": "6cfcf410",
   "metadata": {},
   "outputs": [],
   "source": [
    "\n"
   ]
  },
  {
   "cell_type": "code",
   "execution_count": null,
   "id": "9137c9f7",
   "metadata": {},
   "outputs": [],
   "source": []
  }
 ],
 "metadata": {
  "kernelspec": {
   "display_name": "Python 3",
   "language": "python",
   "name": "python3"
  },
  "language_info": {
   "codemirror_mode": {
    "name": "ipython",
    "version": 3
   },
   "file_extension": ".py",
   "mimetype": "text/x-python",
   "name": "python",
   "nbconvert_exporter": "python",
   "pygments_lexer": "ipython3",
   "version": "3.8.8"
  }
 },
 "nbformat": 4,
 "nbformat_minor": 5
}
